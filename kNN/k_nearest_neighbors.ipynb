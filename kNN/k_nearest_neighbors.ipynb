{
  "cells": [
    {
      "cell_type": "code",
      "execution_count": 11,
      "metadata": {
        "cellView": "form",
        "colab": {
          "base_uri": "https://localhost:8080/",
          "height": 1000
        },
        "id": "2aEQws1__x5W",
        "outputId": "78b20017-ba3e-49d1-b8e5-7f0d923653d7"
      },
      "outputs": [
        {
          "name": "stderr",
          "output_type": "stream",
          "text": [
            "\"wget\" �� ���� ����७��� ��� ���譥�\n",
            "��������, �ᯮ��塞�� �ணࠬ��� ��� ������ 䠩���.\n",
            "\"id\" �� ���� ����७��� ��� ���譥�\n",
            "��������, �ᯮ��塞�� �ணࠬ��� ��� ������ 䠩���.\n",
            "ERROR: Could not open requirements file: [Errno 2] No such file or directory: 'requirements.txt'\n"
          ]
        }
      ],
      "source": [
        "#@title Установка нужных версий библиотек\n",
        "!wget 'https://drive.google.com/uc?export=download&id=1oSFOP0j25OZAuhD8YXxyQXNTdr2lUdtn' -O requirements.txt\n",
        "!pip install -r requirements.txt"
      ]
    },
    {
      "cell_type": "markdown",
      "metadata": {
        "id": "Faqf8pG8itot"
      },
      "source": [
        "# Суть модели *K* ближайших соседей"
      ]
    },
    {
      "cell_type": "markdown",
      "metadata": {
        "id": "rFxDo7kHg45p"
      },
      "source": [
        "## KNN для классификации"
      ]
    },
    {
      "cell_type": "markdown",
      "metadata": {
        "id": "-gROL4l_uf94"
      },
      "source": [
        "Начнем обсуждение с алгоритма kNN для задачи классификации. Расшифровывается его название как _\"k ближайших соседей (k nearest neighbours)\"_."
      ]
    },
    {
      "cell_type": "markdown",
      "metadata": {
        "id": "6eN1mepjVJ5D"
      },
      "source": [
        "На изображении показано два класс (синие квадраты и красные треугольники), а в центре находится неопределившийся объект - зеленый круг, вот для него то и будем искать ближайших соседей.\n",
        "\n",
        " <img src='https://upload.wikimedia.org/wikipedia/commons/thumb/e/e7/KnnClassification.svg/220px-KnnClassification.svg.png'>\n",
        "\n",
        " При инициализации алгоритмы KNN нужно указывать, на какое количество соседей вы хотите опираться, на изображении опираемся на трех ближайших соседей и видим, что два соседа имеют красный класс, а один сосед - синий класс, значит по большинству побеждает красный класс. И новый объект, зеленый круг, будет классифицирован, как красный треугольник.  "
      ]
    },
    {
      "cell_type": "markdown",
      "metadata": {
        "id": "5H4tVVknVc4k"
      },
      "source": [
        "Модель очень ленивая, ведь вся суть её обучения сводится к запоминанию объектов из обучающей выборки."
      ]
    },
    {
      "cell_type": "markdown",
      "metadata": {
        "id": "vArDNjL1WeRv"
      },
      "source": [
        "Давайте обучим модель KNN из `sklearn` на сгенерированных данных.\n",
        "\n",
        "Сгенерируем два класса с помощью функции `make_classification`."
      ]
    },
    {
      "cell_type": "code",
      "execution_count": 17,
      "metadata": {
        "colab": {
          "base_uri": "https://localhost:8080/",
          "height": 1000
        },
        "id": "-BI3C8CZWtY1",
        "outputId": "23793192-0259-4417-a4ee-225eedf9d480"
      },
      "outputs": [
        {
          "data": {
            "text/plain": [
              "array([[-1.71435607,  1.05793305],\n",
              "       [ 1.22308043, -2.2635163 ],\n",
              "       [-0.74339553, -0.82836749],\n",
              "       [-3.10114999,  0.55737705],\n",
              "       [-1.25272785, -1.99962916],\n",
              "       [ 1.295549  , -0.90585939],\n",
              "       [-0.39121512,  1.30843756],\n",
              "       [-2.29436606, -0.32114685],\n",
              "       [-0.37326143, -1.5106069 ],\n",
              "       [ 0.84350362,  0.03804169],\n",
              "       [-1.23337772,  0.62869299],\n",
              "       [-0.51595847, -1.69033762],\n",
              "       [ 0.11293492, -1.46417755],\n",
              "       [ 0.39978471, -1.3120226 ],\n",
              "       [-2.49684085, -0.0139064 ],\n",
              "       [ 1.19899006,  1.27323302],\n",
              "       [-1.84733371,  1.17918884],\n",
              "       [-1.68009315,  0.94130391],\n",
              "       [ 2.6400623 , -0.13810078],\n",
              "       [-1.8453037 ,  0.96321745],\n",
              "       [-0.71170663,  0.71554382],\n",
              "       [-0.02934338, -1.59054511],\n",
              "       [ 1.23158511,  1.36757795],\n",
              "       [ 1.72196418, -0.7425116 ],\n",
              "       [ 1.5719743 , -3.17595646],\n",
              "       [ 0.14132289, -1.44743003],\n",
              "       [ 1.80872881, -0.63583078],\n",
              "       [ 1.79510491, -0.69260501],\n",
              "       [ 0.07462334,  1.01023259],\n",
              "       [ 0.95171302,  1.44854725],\n",
              "       [-1.19446451, -0.8474957 ],\n",
              "       [ 1.25632941,  0.35620977],\n",
              "       [-2.24908252, -0.28644243],\n",
              "       [ 0.82474865, -0.03271731],\n",
              "       [ 0.18634794,  0.05062521],\n",
              "       [ 1.03098019,  1.42444297],\n",
              "       [ 0.68659065, -0.02781403],\n",
              "       [-1.14524878,  1.4430906 ],\n",
              "       [ 0.22013091,  0.9582595 ],\n",
              "       [ 0.40798076, -2.16809281],\n",
              "       [ 0.4668523 ,  1.1886345 ],\n",
              "       [ 0.82664994,  1.4672776 ],\n",
              "       [-0.47732004,  0.97301565],\n",
              "       [-0.52964965, -1.61180206],\n",
              "       [ 1.18049148, -0.88573201],\n",
              "       [ 0.56858555,  1.63416065],\n",
              "       [-1.63075668,  0.88990026],\n",
              "       [-0.52147411, -1.29269155],\n",
              "       [ 1.17920531, -0.95482454],\n",
              "       [-1.08235506, -0.95981772],\n",
              "       [-0.01062043, -1.51978412],\n",
              "       [-1.11904418, -1.35724946],\n",
              "       [-0.43372781,  0.81710993],\n",
              "       [-1.90408022,  0.78778037],\n",
              "       [-0.12250595, -1.89663844],\n",
              "       [-1.19512354,  1.02316418],\n",
              "       [-0.11045328, -1.70842715],\n",
              "       [-1.5727935 ,  0.95296353],\n",
              "       [-0.13483089,  0.36769071],\n",
              "       [-1.58212305,  0.2779565 ],\n",
              "       [ 1.28048571, -0.66705982],\n",
              "       [-1.29807152,  1.00564621],\n",
              "       [-2.60556052,  0.20090259],\n",
              "       [ 0.22402532,  1.70119761],\n",
              "       [ 0.01109194,  0.81931453],\n",
              "       [ 1.12696083,  2.34009809],\n",
              "       [ 0.34701998,  0.64856096],\n",
              "       [ 4.58019646,  0.59593671],\n",
              "       [ 1.68669243, -0.82136343],\n",
              "       [ 0.52861697, -0.97362376],\n",
              "       [ 1.08127939, -0.76460936],\n",
              "       [-1.47184038,  1.03743568],\n",
              "       [-0.21275877, -1.83408772],\n",
              "       [-2.16271324,  0.22109986],\n",
              "       [ 1.10337767,  1.54338503],\n",
              "       [ 1.24406513, -0.13074864],\n",
              "       [-0.40739519, -1.42213182],\n",
              "       [-0.93039933, -1.09566136],\n",
              "       [ 0.23490551, -0.37733286],\n",
              "       [ 1.02465948, -0.19060412],\n",
              "       [ 1.61901905,  1.94712244],\n",
              "       [ 1.23318754, -0.76543014],\n",
              "       [ 0.61407512, -2.55871026],\n",
              "       [ 1.29357898, -0.96566098],\n",
              "       [-2.14728937,  0.55909197],\n",
              "       [-0.70433282, -0.63475682],\n",
              "       [-2.29338649,  0.20224234],\n",
              "       [-0.23878794,  1.09339004],\n",
              "       [ 1.2265298 ,  1.8491658 ],\n",
              "       [ 1.64658987, -0.55485143],\n",
              "       [ 1.99181785,  1.11576034],\n",
              "       [ 1.09924989, -0.90411481],\n",
              "       [ 0.80976032, -1.12345802],\n",
              "       [-0.0794199 ,  1.66274856],\n",
              "       [-2.00891792, -0.15619181],\n",
              "       [-0.4338418 , -1.93937779],\n",
              "       [-0.68161073,  1.14872781],\n",
              "       [ 1.2366826 , -0.97721481],\n",
              "       [ 0.02942419, -1.32562721],\n",
              "       [ 2.61750165,  2.21818536],\n",
              "       [ 1.35553342,  1.26584188],\n",
              "       [-1.03567978,  1.0224662 ],\n",
              "       [-1.73036196, -0.17567094],\n",
              "       [-0.71819552,  0.30636576],\n",
              "       [-1.74881986,  0.94640166],\n",
              "       [ 0.362523  , -1.99527252],\n",
              "       [-0.10894122, -1.62186578],\n",
              "       [-1.79350521, -1.06662938],\n",
              "       [ 0.43640371,  0.59084543],\n",
              "       [ 0.78339011, -1.07954513]])"
            ]
          },
          "metadata": {},
          "output_type": "display_data"
        },
        {
          "data": {
            "text/plain": [
              "array([1, 0, 0, 0, 0, 0, 1, 0, 0, 1, 1, 0, 0, 0, 0, 1, 1, 1, 0, 1, 1, 0,\n",
              "       1, 0, 0, 0, 0, 0, 1, 1, 0, 1, 0, 1, 1, 1, 1, 1, 1, 0, 1, 1, 1, 0,\n",
              "       0, 1, 1, 0, 0, 0, 0, 0, 1, 1, 0, 1, 0, 1, 1, 1, 0, 1, 0, 1, 1, 1,\n",
              "       1, 0, 0, 0, 1, 1, 0, 0, 1, 1, 0, 0, 1, 1, 1, 1, 0, 0, 1, 0, 0, 1,\n",
              "       1, 0, 1, 0, 0, 1, 0, 0, 1, 0, 0, 1, 1, 1, 0, 1, 1, 0, 0, 0, 1, 0])"
            ]
          },
          "metadata": {},
          "output_type": "display_data"
        }
      ],
      "source": [
        "from sklearn.datasets import make_classification\n",
        "\n",
        "X, y = make_classification(n_samples=110, n_features=2, n_informative=2,\n",
        "                           n_redundant=0, n_classes=2, random_state=6)\n",
        "\n",
        "display(X, y)"
      ]
    },
    {
      "cell_type": "markdown",
      "metadata": {
        "id": "qBHrLQeIaOYy"
      },
      "source": [
        "Разобьем выборку на обучение и тест с помощью `train_test_split`."
      ]
    },
    {
      "cell_type": "code",
      "execution_count": 18,
      "metadata": {
        "colab": {
          "base_uri": "https://localhost:8080/"
        },
        "id": "THfMKGCXZBeX",
        "outputId": "f0b696a2-a98b-4b3d-843e-9320b109dcc7"
      },
      "outputs": [
        {
          "data": {
            "text/plain": [
              "((100, 2), (10, 2))"
            ]
          },
          "execution_count": 18,
          "metadata": {},
          "output_type": "execute_result"
        }
      ],
      "source": [
        "from sklearn.model_selection import train_test_split\n",
        "\n",
        "X_train, X_test, y_train, y_test = train_test_split(X, y, random_state=10, test_size=10)\n",
        "X_train.shape, X_test.shape"
      ]
    },
    {
      "cell_type": "markdown",
      "metadata": {
        "id": "lFklshUYaTKQ"
      },
      "source": [
        "И отрисуем полученные точки, синие - это один класс, оранжевые - это второй класс, а вот зеленые звезды - это тестовые точки, для них будет искать ближайших соседей."
      ]
    },
    {
      "cell_type": "code",
      "execution_count": 27,
      "metadata": {
        "colab": {
          "base_uri": "https://localhost:8080/",
          "height": 483
        },
        "id": "f4Gb9GgPXgnu",
        "outputId": "293e4479-f7f3-4a50-ea75-5005942ada46"
      },
      "outputs": [
        {
          "data": {
            "image/png": "[encoded data removed]",
            "text/plain": [
              "<Figure size 1000x800 with 1 Axes>"
            ]
          },
          "metadata": {},
          "output_type": "display_data"
        }
      ],
      "source": [
        "import seaborn as sns\n",
        "import matplotlib.pyplot as plt\n",
        "from matplotlib.colors import ListedColormap\n",
        "\n",
        "# Create color maps\n",
        "cmap_bold = [\"darkorange\", \"darkblue\"]\n",
        "\n",
        "plt.figure(figsize=(10, 8))\n",
        "sns.scatterplot(\n",
        "    x=X_train[:, 0],\n",
        "    y=X_train[:, 1],\n",
        "    hue=y_train,\n",
        "    palette=cmap_bold\n",
        ")\n",
        "\n",
        "plt.scatter(X_test[:, 0], X_test[:, 1], c='g', marker='*', s=100, label='test dots')\n",
        "plt.legend();"
      ]
    },
    {
      "cell_type": "markdown",
      "metadata": {
        "id": "lTbPZinEgbWk"
      },
      "source": [
        "### Обучение KNN"
      ]
    },
    {
      "cell_type": "markdown",
      "metadata": {
        "id": "z3xaqbVhab_H"
      },
      "source": [
        "Инициализируем модель `KNeighborsClassifier` для задачи классификации из `sklearn`."
      ]
    },
    {
      "cell_type": "code",
      "execution_count": 28,
      "metadata": {
        "id": "1WGhw4MiWhKt"
      },
      "outputs": [],
      "source": [
        "from sklearn.neighbors import KNeighborsClassifier\n",
        "\n",
        "n_neighbors = 3\n",
        "model = KNeighborsClassifier(n_neighbors=n_neighbors)"
      ]
    },
    {
      "cell_type": "markdown",
      "metadata": {
        "id": "i-jqM5mTajGr"
      },
      "source": [
        "И обучаем на обучающей выборке.\n",
        "\n",
        "При этом помним, что никакого обучения нет, модель просто сохраняет выборку."
      ]
    },
    {
      "cell_type": "code",
      "execution_count": 29,
      "metadata": {
        "colab": {
          "base_uri": "https://localhost:8080/"
        },
        "id": "eNIA8S9xaqKR",
        "outputId": "cbab5f03-5bdf-407d-ec9f-06aa2fc3d648"
      },
      "outputs": [
        {
          "data": {
            "text/html": [
              "<style>#sk-container-id-1 {color: black;}#sk-container-id-1 pre{padding: 0;}#sk-container-id-1 div.sk-toggleable {background-color: white;}#sk-container-id-1 label.sk-toggleable__label {cursor: pointer;display: block;width: 100%;margin-bottom: 0;padding: 0.3em;box-sizing: border-box;text-align: center;}#sk-container-id-1 label.sk-toggleable__label-arrow:before {content: \"▸\";float: left;margin-right: 0.25em;color: #696969;}#sk-container-id-1 label.sk-toggleable__label-arrow:hover:before {color: black;}#sk-container-id-1 div.sk-estimator:hover label.sk-toggleable__label-arrow:before {color: black;}#sk-container-id-1 div.sk-toggleable__content {max-height: 0;max-width: 0;overflow: hidden;text-align: left;background-color: #f0f8ff;}#sk-container-id-1 div.sk-toggleable__content pre {margin: 0.2em;color: black;border-radius: 0.25em;background-color: #f0f8ff;}#sk-container-id-1 input.sk-toggleable__control:checked~div.sk-toggleable__content {max-height: 200px;max-width: 100%;overflow: auto;}#sk-container-id-1 input.sk-toggleable__control:checked~label.sk-toggleable__label-arrow:before {content: \"▾\";}#sk-container-id-1 div.sk-estimator input.sk-toggleable__control:checked~label.sk-toggleable__label {background-color: #d4ebff;}#sk-container-id-1 div.sk-label input.sk-toggleable__control:checked~label.sk-toggleable__label {background-color: #d4ebff;}#sk-container-id-1 input.sk-hidden--visually {border: 0;clip: rect(1px 1px 1px 1px);clip: rect(1px, 1px, 1px, 1px);height: 1px;margin: -1px;overflow: hidden;padding: 0;position: absolute;width: 1px;}#sk-container-id-1 div.sk-estimator {font-family: monospace;background-color: #f0f8ff;border: 1px dotted black;border-radius: 0.25em;box-sizing: border-box;margin-bottom: 0.5em;}#sk-container-id-1 div.sk-estimator:hover {background-color: #d4ebff;}#sk-container-id-1 div.sk-parallel-item::after {content: \"\";width: 100%;border-bottom: 1px solid gray;flex-grow: 1;}#sk-container-id-1 div.sk-label:hover label.sk-toggleable__label {background-color: #d4ebff;}#sk-container-id-1 div.sk-serial::before {content: \"\";position: absolute;border-left: 1px solid gray;box-sizing: border-box;top: 0;bottom: 0;left: 50%;z-index: 0;}#sk-container-id-1 div.sk-serial {display: flex;flex-direction: column;align-items: center;background-color: white;padding-right: 0.2em;padding-left: 0.2em;position: relative;}#sk-container-id-1 div.sk-item {position: relative;z-index: 1;}#sk-container-id-1 div.sk-parallel {display: flex;align-items: stretch;justify-content: center;background-color: white;position: relative;}#sk-container-id-1 div.sk-item::before, #sk-container-id-1 div.sk-parallel-item::before {content: \"\";position: absolute;border-left: 1px solid gray;box-sizing: border-box;top: 0;bottom: 0;left: 50%;z-index: -1;}#sk-container-id-1 div.sk-parallel-item {display: flex;flex-direction: column;z-index: 1;position: relative;background-color: white;}#sk-container-id-1 div.sk-parallel-item:first-child::after {align-self: flex-end;width: 50%;}#sk-container-id-1 div.sk-parallel-item:last-child::after {align-self: flex-start;width: 50%;}#sk-container-id-1 div.sk-parallel-item:only-child::after {width: 0;}#sk-container-id-1 div.sk-dashed-wrapped {border: 1px dashed gray;margin: 0 0.4em 0.5em 0.4em;box-sizing: border-box;padding-bottom: 0.4em;background-color: white;}#sk-container-id-1 div.sk-label label {font-family: monospace;font-weight: bold;display: inline-block;line-height: 1.2em;}#sk-container-id-1 div.sk-label-container {text-align: center;}#sk-container-id-1 div.sk-container {/* jupyter's `normalize.less` sets `[hidden] { display: none; }` but bootstrap.min.css set `[hidden] { display: none !important; }` so we also need the `!important` here to be able to override the default hidden behavior on the sphinx rendered scikit-learn.org. See: https://github.com/scikit-learn/scikit-learn/issues/21755 */display: inline-block !important;position: relative;}#sk-container-id-1 div.sk-text-repr-fallback {display: none;}</style><div id=\"sk-container-id-1\" class=\"sk-top-container\"><div class=\"sk-text-repr-fallback\"><pre>KNeighborsClassifier(n_neighbors=3)</pre><b>In a Jupyter environment, please rerun this cell to show the HTML representation or trust the notebook. <br />On GitHub, the HTML representation is unable to render, please try loading this page with nbviewer.org.</b></div><div class=\"sk-container\" hidden><div class=\"sk-item\"><div class=\"sk-estimator sk-toggleable\"><input class=\"sk-toggleable__control sk-hidden--visually\" id=\"sk-estimator-id-1\" type=\"checkbox\" checked><label for=\"sk-estimator-id-1\" class=\"sk-toggleable__label sk-toggleable__label-arrow\">KNeighborsClassifier</label><div class=\"sk-toggleable__content\"><pre>KNeighborsClassifier(n_neighbors=3)</pre></div></div></div></div></div>"
            ],
            "text/plain": [
              "KNeighborsClassifier(n_neighbors=3)"
            ]
          },
          "execution_count": 29,
          "metadata": {},
          "output_type": "execute_result"
        }
      ],
      "source": [
        "model.fit(X_train, y_train)"
      ]
    },
    {
      "cell_type": "markdown",
      "metadata": {
        "id": "KQDVDzPjggO3"
      },
      "source": [
        "### Предсказание KNN"
      ]
    },
    {
      "cell_type": "markdown",
      "metadata": {
        "id": "TtLsG-dnateC"
      },
      "source": [
        "И теперь можем сделать предсказания для наших тестовых объектов."
      ]
    },
    {
      "cell_type": "code",
      "execution_count": 30,
      "metadata": {
        "colab": {
          "base_uri": "https://localhost:8080/"
        },
        "id": "85hnvzsSaxgw",
        "outputId": "8d2581cf-e19d-4130-92cf-e396c8c70bc9"
      },
      "outputs": [
        {
          "data": {
            "text/plain": [
              "array([1, 1, 0, 0, 1, 1, 1, 1, 0, 1])"
            ]
          },
          "execution_count": 30,
          "metadata": {},
          "output_type": "execute_result"
        }
      ],
      "source": [
        "pred_test = model.predict(X_test)\n",
        "pred_test"
      ]
    },
    {
      "cell_type": "markdown",
      "metadata": {
        "id": "5wV0RIxSa0_r"
      },
      "source": [
        "И посмотрим, насколько предсказанные классы похожи на правду."
      ]
    },
    {
      "cell_type": "code",
      "execution_count": 31,
      "metadata": {
        "colab": {
          "base_uri": "https://localhost:8080/",
          "height": 52
        },
        "id": "EjzPaoBwa4e8",
        "outputId": "2d9062de-c31b-4de5-8e77-fb79a5121c54"
      },
      "outputs": [
        {
          "data": {
            "text/plain": [
              "array([1, 1, 0, 0, 1, 1, 1, 1, 0, 1])"
            ]
          },
          "metadata": {},
          "output_type": "display_data"
        },
        {
          "data": {
            "text/plain": [
              "array([1, 1, 0, 0, 1, 1, 1, 1, 0, 1])"
            ]
          },
          "metadata": {},
          "output_type": "display_data"
        }
      ],
      "source": [
        "display(pred_test, y_test)"
      ]
    },
    {
      "cell_type": "markdown",
      "metadata": {
        "id": "1fHGnnMga8BQ"
      },
      "source": [
        "А они прям идеально совпадают, значит действительно посмотреть на ближайших соседей и принять решения, а какого класса будет объект - очень разумно."
      ]
    },
    {
      "cell_type": "markdown",
      "metadata": {
        "id": "nka4yvRqgiaI"
      },
      "source": [
        "#### Детали получения предсказания в KNN"
      ]
    },
    {
      "cell_type": "markdown",
      "metadata": {
        "id": "t_Qfp4LlduwF"
      },
      "source": [
        "А давайте увидем ближайших соседей для пары тестовых объектов.\n",
        "\n",
        "Для этого\n",
        "1. пройдемся по всем обучающим объектам\n",
        "2. посчитаем Эвклидово расстояние (ведь именно оно и считается по умолчанию в KNN в `sklearn`) через `numpy.linalg.norm`."
      ]
    },
    {
      "cell_type": "code",
      "execution_count": 37,
      "metadata": {
        "id": "gOdcvkp0biqs"
      },
      "outputs": [],
      "source": [
        "import numpy as np\n",
        "import pandas as pd\n",
        "\n",
        "\n",
        "idx = 0\n",
        "test_dot = X_test[idx]\n",
        "\n",
        "distances = pd.DataFrame()\n",
        "for i, train_dot in enumerate(X_train):  # 1\n",
        "    distances = distances._append({\n",
        "        'train_idx': i,\n",
        "        'dst': np.linalg.norm(train_dot - test_dot, ord=2)  # 2\n",
        "    }, ignore_index=True)"
      ]
    },
    {
      "cell_type": "markdown",
      "metadata": {
        "id": "iryvwZfseG7S"
      },
      "source": [
        "И после подсчета всех расстояний от тестового объекта до обучающих объектов мы берем наиближайших, тех у которых расстояние меньше всех.\n",
        "\n",
        "И возьмем только 3 соседей."
      ]
    },
    {
      "cell_type": "code",
      "execution_count": 38,
      "metadata": {
        "colab": {
          "base_uri": "https://localhost:8080/",
          "height": 144
        },
        "id": "3S2JLDFEebiU",
        "outputId": "8ecb6e79-bf5b-4e55-fadf-f399ed4e0c19"
      },
      "outputs": [
        {
          "data": {
            "text/html": [
              "<div>\n",
              "<style scoped>\n",
              "    .dataframe tbody tr th:only-of-type {\n",
              "        vertical-align: middle;\n",
              "    }\n",
              "\n",
              "    .dataframe tbody tr th {\n",
              "        vertical-align: top;\n",
              "    }\n",
              "\n",
              "    .dataframe thead th {\n",
              "        text-align: right;\n",
              "    }\n",
              "</style>\n",
              "<table border=\"1\" class=\"dataframe\">\n",
              "  <thead>\n",
              "    <tr style=\"text-align: right;\">\n",
              "      <th></th>\n",
              "      <th>train_idx</th>\n",
              "      <th>dst</th>\n",
              "    </tr>\n",
              "  </thead>\n",
              "  <tbody>\n",
              "    <tr>\n",
              "      <th>40</th>\n",
              "      <td>40.0</td>\n",
              "      <td>0.159445</td>\n",
              "    </tr>\n",
              "    <tr>\n",
              "      <th>41</th>\n",
              "      <td>41.0</td>\n",
              "      <td>0.262930</td>\n",
              "    </tr>\n",
              "    <tr>\n",
              "      <th>15</th>\n",
              "      <td>15.0</td>\n",
              "      <td>0.375908</td>\n",
              "    </tr>\n",
              "  </tbody>\n",
              "</table>\n",
              "</div>"
            ],
            "text/plain": [
              "    train_idx       dst\n",
              "40       40.0  0.159445\n",
              "41       41.0  0.262930\n",
              "15       15.0  0.375908"
            ]
          },
          "execution_count": 38,
          "metadata": {},
          "output_type": "execute_result"
        }
      ],
      "source": [
        "distances.sort_values('dst').head(n_neighbors)"
      ]
    },
    {
      "cell_type": "markdown",
      "metadata": {
        "id": "-2XPtP0vejac"
      },
      "source": [
        "И получим их индексы для дальнейшей отрисовки."
      ]
    },
    {
      "cell_type": "code",
      "execution_count": 39,
      "metadata": {
        "colab": {
          "base_uri": "https://localhost:8080/"
        },
        "id": "R6FNlJGbcnaj",
        "outputId": "f0c368ca-cf1a-43be-9129-7765acb09b71"
      },
      "outputs": [
        {
          "data": {
            "text/plain": [
              "Index([40, 41, 15], dtype='int64')"
            ]
          },
          "execution_count": 39,
          "metadata": {},
          "output_type": "execute_result"
        }
      ],
      "source": [
        "nearest_neigbors_idxs = distances.sort_values('dst').head(n_neighbors).index\n",
        "nearest_neigbors_idxs"
      ]
    },
    {
      "cell_type": "markdown",
      "metadata": {
        "id": "b6qHbzQFemjM"
      },
      "source": [
        "Отрисовываем три найденных соседа в полупрозрачные зеленые окружности.\n",
        "\n",
        "И видим, что действительно, эти три объекта самые близкие для данного тестового объекта и они все синего цвета, а значит по большинству побеждает именно синий класс."
      ]
    },
    {
      "cell_type": "code",
      "execution_count": 48,
      "metadata": {
        "colab": {
          "base_uri": "https://localhost:8080/",
          "height": 144
        },
        "id": "qkuOthGAe0a7",
        "outputId": "67fc5664-ac67-4a74-c8e6-358dfbbbce3d"
      },
      "outputs": [
        {
          "data": {
            "text/html": [
              "<div>\n",
              "<style scoped>\n",
              "    .dataframe tbody tr th:only-of-type {\n",
              "        vertical-align: middle;\n",
              "    }\n",
              "\n",
              "    .dataframe tbody tr th {\n",
              "        vertical-align: top;\n",
              "    }\n",
              "\n",
              "    .dataframe thead th {\n",
              "        text-align: right;\n",
              "    }\n",
              "</style>\n",
              "<table border=\"1\" class=\"dataframe\">\n",
              "  <thead>\n",
              "    <tr style=\"text-align: right;\">\n",
              "      <th></th>\n",
              "      <th>train_idx</th>\n",
              "      <th>dst</th>\n",
              "    </tr>\n",
              "  </thead>\n",
              "  <tbody>\n",
              "    <tr>\n",
              "      <th>95</th>\n",
              "      <td>95.0</td>\n",
              "      <td>0.154511</td>\n",
              "    </tr>\n",
              "    <tr>\n",
              "      <th>96</th>\n",
              "      <td>96.0</td>\n",
              "      <td>0.251004</td>\n",
              "    </tr>\n",
              "    <tr>\n",
              "      <th>35</th>\n",
              "      <td>35.0</td>\n",
              "      <td>0.334685</td>\n",
              "    </tr>\n",
              "  </tbody>\n",
              "</table>\n",
              "</div>"
            ],
            "text/plain": [
              "    train_idx       dst\n",
              "95       95.0  0.154511\n",
              "96       96.0  0.251004\n",
              "35       35.0  0.334685"
            ]
          },
          "execution_count": 48,
          "metadata": {},
          "output_type": "execute_result"
        }
      ],
      "source": [
        "idx = 9\n",
        "test_dot = X_test[idx]\n",
        "\n",
        "distances = pd.DataFrame()\n",
        "for i, train_dot in enumerate(X_train):  # 1\n",
        "    distances = distances._append({\n",
        "        'train_idx': i,\n",
        "        'dst': np.linalg.norm(train_dot - test_dot, ord=2)  # 2\n",
        "    }, ignore_index=True)\n",
        "\n",
        "distances.sort_values('dst').head(n_neighbors)"
      ]
    },
    {
      "cell_type": "markdown",
      "metadata": {
        "id": "BKsBI38Pe0a8"
      },
      "source": [
        "И получае индексы для отрисовки."
      ]
    },
    {
      "cell_type": "code",
      "execution_count": 49,
      "metadata": {
        "colab": {
          "base_uri": "https://localhost:8080/"
        },
        "id": "mWIuYNwse0a8",
        "outputId": "63472e9e-c266-432b-9fe7-a5b6fa261966"
      },
      "outputs": [
        {
          "data": {
            "text/plain": [
              "Index([95, 96, 35], dtype='int64')"
            ]
          },
          "execution_count": 49,
          "metadata": {},
          "output_type": "execute_result"
        }
      ],
      "source": [
        "nearest_neigbors_idxs = distances.sort_values('dst').head(n_neighbors).index\n",
        "nearest_neigbors_idxs"
      ]
    },
    {
      "cell_type": "markdown",
      "metadata": {
        "id": "o9Wydp7fe0a9"
      },
      "source": [
        "Отрисовываем три найденных соседа в полупрозрачные зеленые окружности.\n",
        "\n",
        "И снова, эти три объекта самые близкие к тестовому объекту, а вот они все имеют метку оранжевого класса, а значит наш тестовый объект тоже приобретет метку \"оранжевый класс\"."
      ]
    },
    {
      "cell_type": "code",
      "execution_count": 50,
      "metadata": {
        "colab": {
          "base_uri": "https://localhost:8080/",
          "height": 483
        },
        "id": "ENdkTz_ze0a9",
        "outputId": "c9d4318c-d240-4b77-b062-9ea083db9567"
      },
      "outputs": [
        {
          "data": {
            "image/png": "[encoded data removed]",
            "text/plain": [
              "<Figure size 1000x800 with 1 Axes>"
            ]
          },
          "metadata": {},
          "output_type": "display_data"
        }
      ],
      "source": [
        "# Create color maps\n",
        "cmap_bold = [\"darkorange\", \"darkblue\"]\n",
        "\n",
        "plt.figure(figsize=(10, 8))\n",
        "sns.scatterplot(\n",
        "    x=X_train[:, 0],\n",
        "    y=X_train[:, 1],\n",
        "    hue=y_train,\n",
        "    palette=cmap_bold\n",
        ")\n",
        "\n",
        "plt.scatter(X_train[nearest_neigbors_idxs, 0], X_train[nearest_neigbors_idxs, 1],\n",
        "            c='g', alpha=0.3, marker='o', s=100, label='nearest neighbors')\n",
        "\n",
        "plt.scatter(X_test[idx, 0], X_test[idx, 1], c='g', marker='*', s=100, label='test dot')\n",
        "plt.legend();"
      ]
    },
    {
      "cell_type": "markdown",
      "metadata": {
        "id": "ZZq_KFgagr3l"
      },
      "source": [
        "### Резюме KNN"
      ]
    },
    {
      "cell_type": "markdown",
      "metadata": {
        "id": "k2KMkTkxfLB3"
      },
      "source": [
        "В этом и кроется вся суть алгоритма KNN.\n",
        "\n",
        "На **моменте обучения** ничего интересного не происходит: все точки из обучения попросту запоминаются.\n",
        "\n",
        "На **моменте предсказания** происходят более интересные вещи:\n",
        "1. для тестовой точки считаем расстояния до всех точек с обучения\n",
        "2. сортируем от самого ближнего до самого дальнего расстояния\n",
        "3. делаем голосование между классами ближайших $N$ соседей - это и есть предсказанная метка класса"
      ]
    },
    {
      "cell_type": "markdown",
      "metadata": {
        "id": "B7JWc3aEgSCH"
      },
      "source": [
        "## KNN для регрессии"
      ]
    },
    {
      "cell_type": "markdown",
      "metadata": {
        "id": "Q80Y_7yQBYQy"
      },
      "source": [
        "А теперь давайте обсудим отличия KNN для классификации от KNN для регрессии."
      ]
    },
    {
      "cell_type": "markdown",
      "metadata": {
        "id": "tx_o0s6JBiX2"
      },
      "source": [
        "Давайте обучим модель KNN для регресии из `sklearn` на сгенерированных данных.\n",
        "\n",
        "Сгенерируем 110 объектов с помощью функции `make_regression`."
      ]
    },
    {
      "cell_type": "code",
      "execution_count": null,
      "metadata": {
        "colab": {
          "base_uri": "https://localhost:8080/",
          "height": 1000
        },
        "id": "gVECxRpDBiX4",
        "outputId": "a052b91a-38f6-48e0-9009-af02b4738235"
      },
      "outputs": [
        {
          "data": {
            "text/plain": [
              "array([[ 0.78263039, -0.49341854],\n",
              "       [-0.18765745, -1.4863921 ],\n",
              "       [ 1.63929108, -0.4298936 ],\n",
              "       [ 0.35480861,  1.81259031],\n",
              "       [-2.12647459,  0.75144883],\n",
              "       [ 1.56448966,  0.71270509],\n",
              "       [ 0.65725757, -0.47237563],\n",
              "       [ 0.07409773,  2.03076035],\n",
              "       [-0.12673638, -1.36861282],\n",
              "       [-0.46550831,  0.23371059],\n",
              "       [-1.22257572,  0.8228126 ],\n",
              "       [ 0.11660197, -0.68225732],\n",
              "       [ 0.64330145, -0.44789505],\n",
              "       [-0.53070072,  1.13694227],\n",
              "       [ 0.17365335, -1.03543429],\n",
              "       [-0.96813764,  0.16706673],\n",
              "       [-0.33588161,  1.23773784],\n",
              "       [ 1.21848065, -0.85750144],\n",
              "       [ 0.17629034,  1.09462041],\n",
              "       [-0.50426698,  1.05250993],\n",
              "       [-0.04723705, -1.44903979],\n",
              "       [ 1.46901739,  1.74951635],\n",
              "       [-0.03618977, -0.09084699],\n",
              "       [ 0.82465384, -1.17643148],\n",
              "       [-0.47144628,  2.33660781],\n",
              "       [ 0.11444143, -0.02195668],\n",
              "       [-0.06009261, -0.56848829],\n",
              "       [ 0.31508564, -1.0146655 ],\n",
              "       [-0.05961756,  0.19416833],\n",
              "       [-0.81988596,  0.13871369],\n",
              "       [ 0.35353062, -0.64333729],\n",
              "       [ 1.37018152,  1.09965334],\n",
              "       [ 0.15268777, -1.6326206 ],\n",
              "       [ 0.35877096,  1.07368134],\n",
              "       [ 0.11112817,  0.12915125],\n",
              "       [ 1.11569378,  0.79410326],\n",
              "       [-0.31178367,  0.72900392],\n",
              "       [-3.69023566,  0.53384158],\n",
              "       [-2.12714455, -0.83440747],\n",
              "       [ 0.2628088 , -0.60903479],\n",
              "       [-0.66353389, -0.43373648],\n",
              "       [ 0.2868793 ,  0.05185969],\n",
              "       [-1.37105209, -1.06862477],\n",
              "       [ 1.50278553, -0.59545972],\n",
              "       [ 0.09079696,  0.27026659],\n",
              "       [ 0.44692842, -1.01464799],\n",
              "       [-0.56147088, -1.0335199 ],\n",
              "       [-0.08417101, -0.4485657 ],\n",
              "       [ 0.42628539, -0.75815703],\n",
              "       [-1.46705339,  1.57410416],\n",
              "       [ 0.48828411,  1.07030973],\n",
              "       [-0.16236698,  0.72680996],\n",
              "       [-0.07972565,  0.87266549],\n",
              "       [ 0.45240094, -0.30946257],\n",
              "       [-0.32016629, -0.59319584],\n",
              "       [ 0.51689471,  0.92885736],\n",
              "       [ 0.61189442, -0.26984406],\n",
              "       [-0.99541982, -0.11412716],\n",
              "       [ 0.95120126,  0.44189739],\n",
              "       [-1.6912109 ,  1.42780744],\n",
              "       [-0.31449183, -0.14497558],\n",
              "       [-0.58661296, -1.48185327],\n",
              "       [-0.78015214,  0.95560959],\n",
              "       [ 0.03060843, -0.29749921],\n",
              "       [-1.91402115, -0.13990231],\n",
              "       [ 0.11492459, -0.39500464],\n",
              "       [-0.37550472,  0.39636757],\n",
              "       [ 2.63128056,  0.60182225],\n",
              "       [ 1.90474232,  0.69415315],\n",
              "       [-1.18441686, -0.52817318],\n",
              "       [ 2.33903423, -0.31332286],\n",
              "       [-0.95331626, -1.07282736],\n",
              "       [ 0.5685534 , -0.80496557],\n",
              "       [-0.86878205,  0.35483766],\n",
              "       [ 0.44408297, -0.85682264],\n",
              "       [ 0.2785168 , -0.42754013],\n",
              "       [ 0.52294535, -0.59187648],\n",
              "       [ 0.07612761, -0.15512816],\n",
              "       [-2.48678065,  0.91325152],\n",
              "       [ 0.87426839, -0.73957208],\n",
              "       [-0.1810066 ,  0.53419953],\n",
              "       [ 1.12706373, -1.51409323],\n",
              "       [ 0.47233738,  1.67693004],\n",
              "       [-1.44992793, -2.70693079],\n",
              "       [ 1.38503523, -0.51962709],\n",
              "       [ 0.92856046,  0.33947011],\n",
              "       [ 0.66615792, -0.79624825],\n",
              "       [ 1.18705819,  1.69089583],\n",
              "       [ 0.05155094, -0.21958725],\n",
              "       [-0.98472793, -0.21062697],\n",
              "       [ 1.40058146,  0.38470804],\n",
              "       [ 0.52834106,  0.9398248 ],\n",
              "       [-0.47748711,  0.11252968],\n",
              "       [-0.54060704,  0.79322236],\n",
              "       [ 0.69249311,  0.96133333],\n",
              "       [-0.48444561,  1.36293786],\n",
              "       [ 0.41356334, -0.37337679],\n",
              "       [-1.20135139,  0.89165273],\n",
              "       [-1.3564758 , -0.46363197],\n",
              "       [ 0.35537056, -1.69891959],\n",
              "       [-2.1323234 ,  0.17386307],\n",
              "       [ 0.83647485, -1.37809438],\n",
              "       [-0.32365897,  1.26610337],\n",
              "       [ 0.63422534,  0.810655  ],\n",
              "       [-0.44524407, -0.14195923],\n",
              "       [ 0.85724762,  0.94309899],\n",
              "       [ 0.21782079, -0.8990918 ],\n",
              "       [-0.01958134,  1.66284285],\n",
              "       [-0.94542881,  1.09128647],\n",
              "       [-0.5532565 , -0.37391087]])"
            ]
          },
          "metadata": {},
          "output_type": "display_data"
        },
        {
          "data": {
            "text/plain": [
              "array([ -10.66244648,  -92.07211428,   13.26158326,  115.24501892,\n",
              "         -5.77482665,   78.87831107,  -12.37461469,  121.49849425,\n",
              "        -83.69176519,    2.81713379,   19.72411478,  -37.48598927,\n",
              "        -11.25972977,   54.54481088,  -56.96890099,  -12.9518793 ,\n",
              "         65.07750333,  -21.86615914,   68.70174093,   50.18849411,\n",
              "        -86.56196733,  137.7699071 ,   -6.20963507,  -49.94963378,\n",
              "        126.68433272,    1.40080308,  -34.93897749,  -52.41284413,\n",
              "         10.04578784,  -11.13189271,  -29.61021615,   97.11972486,\n",
              "        -92.67858277,   71.76516307,   10.23353984,   73.10728639,\n",
              "         35.64526282,  -55.44024142,  -99.30796032,  -29.72429363,\n",
              "        -41.20631185,    9.81536928,  -95.31048751,    0.28292736,\n",
              "         18.07617282,  -49.30635516,  -74.17129949,  -28.4343354 ,\n",
              "        -34.66741029,   58.26901278,   74.61692388,   39.03528174,\n",
              "         49.5828809 ,   -7.59293348,  -42.52180903,   66.94943122,\n",
              "         -1.49989836,  -30.176389  ,   48.46334221,   44.36209111,\n",
              "        -15.95677016, -101.20155328,   37.97605314,  -16.82245884,\n",
              "        -53.33329231,  -20.58631528,   14.5289209 ,   97.46703529,\n",
              "         85.79870099,  -59.04420862,   36.61763102,  -85.71886407,\n",
              "        -34.07667818,    0.46114721,  -40.06647593,  -18.65163146,\n",
              "        -22.58515683,   -7.35472182,   -4.72011643,  -23.01956535,\n",
              "         27.23807432,  -62.73838729,  110.01348379, -193.77864096,\n",
              "          1.98123091,   41.88995709,  -31.26362093,  127.67174326,\n",
              "        -11.73473522,  -35.61510754,   55.67571519,   67.86578677,\n",
              "         -4.61101082,   34.04244019,   73.00061267,   68.96119002,\n",
              "        -12.27672131,   24.28351465,  -59.29095441,  -91.81417113,\n",
              "        -39.97260749,  -61.56318468,   67.03810297,   62.74271572,\n",
              "        -18.85866632,   75.80600717,  -47.88850505,   97.59599807,\n",
              "         42.08390256,  -35.08091814])"
            ]
          },
          "metadata": {},
          "output_type": "display_data"
        }
      ],
      "source": [
        "from sklearn.datasets import make_regression\n",
        "\n",
        "X, y = make_regression(n_samples=110, n_features=2, n_informative=2,\n",
        "                       random_state=6)\n",
        "\n",
        "display(X, y)"
      ]
    },
    {
      "cell_type": "markdown",
      "metadata": {
        "id": "MUTOouynBiX4"
      },
      "source": [
        "Разобьем выборку на обучение и тест с помощью `train_test_split`."
      ]
    },
    {
      "cell_type": "code",
      "execution_count": null,
      "metadata": {
        "colab": {
          "base_uri": "https://localhost:8080/"
        },
        "id": "Csv1yNExBiX5",
        "outputId": "8197ab1d-45dd-46ab-afc0-1a1ae3058814"
      },
      "outputs": [
        {
          "data": {
            "text/plain": [
              "((100, 2), (10, 2))"
            ]
          },
          "execution_count": 17,
          "metadata": {},
          "output_type": "execute_result"
        }
      ],
      "source": [
        "from sklearn.model_selection import train_test_split\n",
        "\n",
        "X_train, X_test, y_train, y_test = train_test_split(X, y, random_state=10, test_size=10)\n",
        "X_train.shape, X_test.shape"
      ]
    },
    {
      "cell_type": "markdown",
      "metadata": {
        "id": "R0Wkoaw_BiX5"
      },
      "source": [
        "И отрисуем полученные точки, раскрасим их в зависимости от целевого значения, если точка более яркая, то значит у неё большое целевое значение, если точка более блеклая, то и целевое значение меньше.\n",
        "\n",
        "А зеленые звезды - это тестовые точки, для них будет искать ближайших соседей."
      ]
    },
    {
      "cell_type": "code",
      "execution_count": null,
      "metadata": {
        "colab": {
          "base_uri": "https://localhost:8080/",
          "height": 483
        },
        "id": "Nrbq4l4xBiX5",
        "outputId": "04a65365-b125-4e76-8a52-55abdd3481b5"
      },
      "outputs": [
        {
          "data": {
            "image/png": "[encoded data removed]",
            "text/plain": [
              "<Figure size 720x576 with 1 Axes>"
            ]
          },
          "metadata": {
            "needs_background": "light"
          },
          "output_type": "display_data"
        }
      ],
      "source": [
        "plt.figure(figsize=(10, 8))\n",
        "sns.scatterplot(\n",
        "    x=X_train[:, 0],\n",
        "    y=X_train[:, 1],\n",
        "    hue=y_train\n",
        ")\n",
        "\n",
        "plt.scatter(X_test[:, 0], X_test[:, 1], c='g', marker='*', s=100, label='test dots')\n",
        "plt.legend();"
      ]
    },
    {
      "cell_type": "markdown",
      "metadata": {
        "id": "N7-FltOtBiX5"
      },
      "source": [
        "### Обучение KNN"
      ]
    },
    {
      "cell_type": "markdown",
      "metadata": {
        "id": "xuEW-OJ9BiX6"
      },
      "source": [
        "Инициализируем модель `KNeighborsRegressor` для задачи регрессии из `sklearn`."
      ]
    },
    {
      "cell_type": "code",
      "execution_count": null,
      "metadata": {
        "id": "IR2S6-gMBiX6"
      },
      "outputs": [],
      "source": [
        "from sklearn.neighbors import KNeighborsRegressor\n",
        "\n",
        "n_neighbors = 3\n",
        "model = KNeighborsRegressor(n_neighbors=n_neighbors)"
      ]
    },
    {
      "cell_type": "markdown",
      "metadata": {
        "id": "1ptkvqF-BiX6"
      },
      "source": [
        "И обучаем на обучающей выборке.\n",
        "\n",
        "Никакого обучения здесь нет, на самом деле, модель просто сохраняет выборку."
      ]
    },
    {
      "cell_type": "code",
      "execution_count": null,
      "metadata": {
        "colab": {
          "base_uri": "https://localhost:8080/"
        },
        "id": "GKUIoYs7BiX6",
        "outputId": "2846f7d8-2ba4-4cfc-bcda-fedbfa7c46ac"
      },
      "outputs": [
        {
          "data": {
            "text/plain": [
              "KNeighborsRegressor(algorithm='auto', leaf_size=30, metric='minkowski',\n",
              "                    metric_params=None, n_jobs=None, n_neighbors=3, p=2,\n",
              "                    weights='uniform')"
            ]
          },
          "execution_count": 21,
          "metadata": {},
          "output_type": "execute_result"
        }
      ],
      "source": [
        "model.fit(X_train, y_train)"
      ]
    },
    {
      "cell_type": "markdown",
      "metadata": {
        "id": "aANX_43GBiX7"
      },
      "source": [
        "### Предсказание KNN"
      ]
    },
    {
      "cell_type": "markdown",
      "metadata": {
        "id": "woBE8vvKBiX7"
      },
      "source": [
        "И теперь можем сделать предсказания для наших тестовых объектов."
      ]
    },
    {
      "cell_type": "code",
      "execution_count": null,
      "metadata": {
        "colab": {
          "base_uri": "https://localhost:8080/"
        },
        "id": "tFlQPmwOBiX7",
        "outputId": "41054a48-bcbb-4811-8a3b-ecc6a165aa35"
      },
      "outputs": [
        {
          "data": {
            "text/plain": [
              "array([-53.99812541, -25.33424853, -28.83554665, -10.18245823,\n",
              "        47.79409516, 114.96770525, -16.82251686,   9.90350525,\n",
              "         5.5775676 , -69.31157808])"
            ]
          },
          "execution_count": 22,
          "metadata": {},
          "output_type": "execute_result"
        }
      ],
      "source": [
        "pred_test = model.predict(X_test)\n",
        "pred_test"
      ]
    },
    {
      "cell_type": "markdown",
      "metadata": {
        "id": "dxpF3TMUBiX7"
      },
      "source": [
        "И посмотрим, насколько предсказанные классы похожи на правду."
      ]
    },
    {
      "cell_type": "code",
      "execution_count": null,
      "metadata": {
        "colab": {
          "base_uri": "https://localhost:8080/",
          "height": 121
        },
        "id": "QPuJP0RXBiX8",
        "outputId": "ba329c05-8112-443e-9a70-ac2fca572e07"
      },
      "outputs": [
        {
          "data": {
            "text/plain": [
              "array([-53.99812541, -25.33424853, -28.83554665, -10.18245823,\n",
              "        47.79409516, 114.96770525, -16.82251686,   9.90350525,\n",
              "         5.5775676 , -69.31157808])"
            ]
          },
          "metadata": {},
          "output_type": "display_data"
        },
        {
          "data": {
            "text/plain": [
              "array([-61.56318468, -23.01956535, -34.93897749,   0.28292736,\n",
              "        49.5828809 , 127.67174326, -55.44024142,   9.81536928,\n",
              "        13.26158326, -99.30796032])"
            ]
          },
          "metadata": {},
          "output_type": "display_data"
        }
      ],
      "source": [
        "display(pred_test, y_test)"
      ]
    },
    {
      "cell_type": "markdown",
      "metadata": {
        "id": "L1CU1aufBiX8"
      },
      "source": [
        "Они конечно совпадают неидеально, но в целом они имеют близкие значения."
      ]
    },
    {
      "cell_type": "markdown",
      "metadata": {
        "id": "fJm4fUtABiX8"
      },
      "source": [
        "#### Детали получения предсказания в KNN"
      ]
    },
    {
      "cell_type": "markdown",
      "metadata": {
        "id": "dJC45bVEBiX8"
      },
      "source": [
        "А давайте увидем ближайших соседей для пары тестовых объектов.\n",
        "\n",
        "Для этого\n",
        "1. пройдемся по всем обучающим объектам\n",
        "2. посчитаем Эвклидово расстояние (ведь именно оно и считается по умолчанию в KNN в `sklearn`) через `numpy.linalg.norm`."
      ]
    },
    {
      "cell_type": "code",
      "execution_count": null,
      "metadata": {
        "id": "5kdXP1wKBiX8"
      },
      "outputs": [],
      "source": [
        "import numpy as np\n",
        "import pandas as pd\n",
        "\n",
        "\n",
        "idx = 0\n",
        "test_dot = X_test[idx]\n",
        "\n",
        "distances = pd.DataFrame()\n",
        "for i, train_dot in enumerate(X_train):  # 1\n",
        "    distances = distances.append({\n",
        "        'train_idx': i,\n",
        "        'dst': np.linalg.norm(train_dot - test_dot, ord=2)  # 2\n",
        "    }, ignore_index=True)"
      ]
    },
    {
      "cell_type": "markdown",
      "metadata": {
        "id": "lM13T7PFBiX9"
      },
      "source": [
        "И после подсчета всех расстояний от тестового объекта до обучающих объектов мы берем наиближайших, тех у которых расстояние меньше всех.\n",
        "\n",
        "И возьмем только 3 соседей."
      ]
    },
    {
      "cell_type": "code",
      "execution_count": null,
      "metadata": {
        "colab": {
          "base_uri": "https://localhost:8080/",
          "height": 144
        },
        "id": "DCXqcQ5nBiX9",
        "outputId": "c9bc7e3d-14b5-4c91-9784-163c55f4916d"
      },
      "outputs": [
        {
          "data": {
            "text/html": [
              "\n",
              "  <div id=\"df-752361f0-927b-44ab-848f-ec598503bc39\">\n",
              "    <div class=\"colab-df-container\">\n",
              "      <div>\n",
              "<style scoped>\n",
              "    .dataframe tbody tr th:only-of-type {\n",
              "        vertical-align: middle;\n",
              "    }\n",
              "\n",
              "    .dataframe tbody tr th {\n",
              "        vertical-align: top;\n",
              "    }\n",
              "\n",
              "    .dataframe thead th {\n",
              "        text-align: right;\n",
              "    }\n",
              "</style>\n",
              "<table border=\"1\" class=\"dataframe\">\n",
              "  <thead>\n",
              "    <tr style=\"text-align: right;\">\n",
              "      <th></th>\n",
              "      <th>dst</th>\n",
              "      <th>train_idx</th>\n",
              "    </tr>\n",
              "  </thead>\n",
              "  <tbody>\n",
              "    <tr>\n",
              "      <th>60</th>\n",
              "      <td>0.202009</td>\n",
              "      <td>60.0</td>\n",
              "    </tr>\n",
              "    <tr>\n",
              "      <th>34</th>\n",
              "      <td>0.320839</td>\n",
              "      <td>34.0</td>\n",
              "    </tr>\n",
              "    <tr>\n",
              "      <th>32</th>\n",
              "      <td>0.532766</td>\n",
              "      <td>32.0</td>\n",
              "    </tr>\n",
              "  </tbody>\n",
              "</table>\n",
              "</div>\n",
              "      <button class=\"colab-df-convert\" onclick=\"convertToInteractive('df-752361f0-927b-44ab-848f-ec598503bc39')\"\n",
              "              title=\"Convert this dataframe to an interactive table.\"\n",
              "              style=\"display:none;\">\n",
              "        \n",
              "  <svg xmlns=\"http://www.w3.org/2000/svg\" height=\"24px\"viewBox=\"0 0 24 24\"\n",
              "       width=\"24px\">\n",
              "    <path d=\"M0 0h24v24H0V0z\" fill=\"none\"/>\n",
              "    <path d=\"M18.56 5.44l.94 2.06.94-2.06 2.06-.94-2.06-.94-.94-2.06-.94 2.06-2.06.94zm-11 1L8.5 8.5l.94-2.06 2.06-.94-2.06-.94L8.5 2.5l-.94 2.06-2.06.94zm10 10l.94 2.06.94-2.06 2.06-.94-2.06-.94-.94-2.06-.94 2.06-2.06.94z\"/><path d=\"M17.41 7.96l-1.37-1.37c-.4-.4-.92-.59-1.43-.59-.52 0-1.04.2-1.43.59L10.3 9.45l-7.72 7.72c-.78.78-.78 2.05 0 2.83L4 21.41c.39.39.9.59 1.41.59.51 0 1.02-.2 1.41-.59l7.78-7.78 2.81-2.81c.8-.78.8-2.07 0-2.86zM5.41 20L4 18.59l7.72-7.72 1.47 1.35L5.41 20z\"/>\n",
              "  </svg>\n",
              "      </button>\n",
              "      \n",
              "  <style>\n",
              "    .colab-df-container {\n",
              "      display:flex;\n",
              "      flex-wrap:wrap;\n",
              "      gap: 12px;\n",
              "    }\n",
              "\n",
              "    .colab-df-convert {\n",
              "      background-color: #E8F0FE;\n",
              "      border: none;\n",
              "      border-radius: 50%;\n",
              "      cursor: pointer;\n",
              "      display: none;\n",
              "      fill: #1967D2;\n",
              "      height: 32px;\n",
              "      padding: 0 0 0 0;\n",
              "      width: 32px;\n",
              "    }\n",
              "\n",
              "    .colab-df-convert:hover {\n",
              "      background-color: #E2EBFA;\n",
              "      box-shadow: 0px 1px 2px rgba(60, 64, 67, 0.3), 0px 1px 3px 1px rgba(60, 64, 67, 0.15);\n",
              "      fill: #174EA6;\n",
              "    }\n",
              "\n",
              "    [theme=dark] .colab-df-convert {\n",
              "      background-color: #3B4455;\n",
              "      fill: #D2E3FC;\n",
              "    }\n",
              "\n",
              "    [theme=dark] .colab-df-convert:hover {\n",
              "      background-color: #434B5C;\n",
              "      box-shadow: 0px 1px 3px 1px rgba(0, 0, 0, 0.15);\n",
              "      filter: drop-shadow(0px 1px 2px rgba(0, 0, 0, 0.3));\n",
              "      fill: #FFFFFF;\n",
              "    }\n",
              "  </style>\n",
              "\n",
              "      <script>\n",
              "        const buttonEl =\n",
              "          document.querySelector('#df-752361f0-927b-44ab-848f-ec598503bc39 button.colab-df-convert');\n",
              "        buttonEl.style.display =\n",
              "          google.colab.kernel.accessAllowed ? 'block' : 'none';\n",
              "\n",
              "        async function convertToInteractive(key) {\n",
              "          const element = document.querySelector('#df-752361f0-927b-44ab-848f-ec598503bc39');\n",
              "          const dataTable =\n",
              "            await google.colab.kernel.invokeFunction('convertToInteractive',\n",
              "                                                     [key], {});\n",
              "          if (!dataTable) return;\n",
              "\n",
              "          const docLinkHtml = 'Like what you see? Visit the ' +\n",
              "            '<a target=\"_blank\" href=https://colab.research.google.com/notebooks/data_table.ipynb>data table notebook</a>'\n",
              "            + ' to learn more about interactive tables.';\n",
              "          element.innerHTML = '';\n",
              "          dataTable['output_type'] = 'display_data';\n",
              "          await google.colab.output.renderOutput(dataTable, element);\n",
              "          const docLink = document.createElement('div');\n",
              "          docLink.innerHTML = docLinkHtml;\n",
              "          element.appendChild(docLink);\n",
              "        }\n",
              "      </script>\n",
              "    </div>\n",
              "  </div>\n",
              "  "
            ],
            "text/plain": [
              "         dst  train_idx\n",
              "60  0.202009       60.0\n",
              "34  0.320839       34.0\n",
              "32  0.532766       32.0"
            ]
          },
          "execution_count": 25,
          "metadata": {},
          "output_type": "execute_result"
        }
      ],
      "source": [
        "distances.sort_values('dst').head(n_neighbors)"
      ]
    },
    {
      "cell_type": "markdown",
      "metadata": {
        "id": "-q1XCvEpBiX9"
      },
      "source": [
        "И получим их индексы для дальнейшей отрисовки."
      ]
    },
    {
      "cell_type": "code",
      "execution_count": null,
      "metadata": {
        "colab": {
          "base_uri": "https://localhost:8080/"
        },
        "id": "AVrb98xJBiX9",
        "outputId": "9b88fa8d-b8f9-4a24-f2a2-074abd5f404b"
      },
      "outputs": [
        {
          "data": {
            "text/plain": [
              "Int64Index([60, 34, 32], dtype='int64')"
            ]
          },
          "execution_count": 26,
          "metadata": {},
          "output_type": "execute_result"
        }
      ],
      "source": [
        "nearest_neigbors_idxs = distances.sort_values('dst').head(n_neighbors).index\n",
        "nearest_neigbors_idxs"
      ]
    },
    {
      "cell_type": "markdown",
      "metadata": {
        "id": "9FW68g9-BiX-"
      },
      "source": [
        "Отрисовываем три найденных соседа в полупрозрачные зеленые окружности.\n",
        "\n",
        "И видим, что действительно, эти три объекта самые близкие для данного тестового объекта и они имеют свои три целевых значения.\n",
        "\n",
        "Чтобы получить предсказания для тестового объекта, нужно усреднить целевые значения ближайших соседей."
      ]
    },
    {
      "cell_type": "code",
      "execution_count": null,
      "metadata": {
        "colab": {
          "base_uri": "https://localhost:8080/",
          "height": 483
        },
        "id": "eLlopVfHBiX-",
        "outputId": "e84c7f69-3574-4342-be5e-faf843ae5193"
      },
      "outputs": [
        {
          "data": {
            "image/png": "[encoded data removed]",
            "text/plain": [
              "<Figure size 720x576 with 1 Axes>"
            ]
          },
          "metadata": {
            "needs_background": "light"
          },
          "output_type": "display_data"
        }
      ],
      "source": [
        "plt.figure(figsize=(10, 8))\n",
        "sns.scatterplot(\n",
        "    x=X_train[:, 0],\n",
        "    y=X_train[:, 1],\n",
        "    hue=y_train,\n",
        ")\n",
        "\n",
        "plt.scatter(X_train[nearest_neigbors_idxs, 0], X_train[nearest_neigbors_idxs, 1],\n",
        "            c='g', alpha=0.3, marker='o', s=100, label='nearest neighbors')\n",
        "\n",
        "pred = np.mean(y_train[nearest_neigbors_idxs])\n",
        "plt.scatter(X_test[idx, 0], X_test[idx, 1], c='g', marker='*', s=100, label='test dot')\n",
        "plt.annotate(round(pred, 1), (X_test[idx, 0], X_test[idx, 1]))\n",
        "\n",
        "for i, txt in enumerate(y_train[nearest_neigbors_idxs]):\n",
        "    plt.annotate(round(txt, 1), (X_train[nearest_neigbors_idxs[i], 0], X_train[nearest_neigbors_idxs[i], 1]))\n",
        "\n",
        "plt.legend();"
      ]
    },
    {
      "cell_type": "markdown",
      "metadata": {
        "id": "48ZAvW89BiX-"
      },
      "source": [
        "А давайте возьмем еще один тестовый объект и сделаем для него точно такие же действия."
      ]
    },
    {
      "cell_type": "code",
      "execution_count": null,
      "metadata": {
        "colab": {
          "base_uri": "https://localhost:8080/",
          "height": 144
        },
        "id": "rxhALkt7BiX-",
        "outputId": "c02d0f63-ad1e-4dea-90f9-43cfbf44b50d"
      },
      "outputs": [
        {
          "data": {
            "text/html": [
              "\n",
              "  <div id=\"df-671e3105-8640-404c-93ce-03d52258a94b\">\n",
              "    <div class=\"colab-df-container\">\n",
              "      <div>\n",
              "<style scoped>\n",
              "    .dataframe tbody tr th:only-of-type {\n",
              "        vertical-align: middle;\n",
              "    }\n",
              "\n",
              "    .dataframe tbody tr th {\n",
              "        vertical-align: top;\n",
              "    }\n",
              "\n",
              "    .dataframe thead th {\n",
              "        text-align: right;\n",
              "    }\n",
              "</style>\n",
              "<table border=\"1\" class=\"dataframe\">\n",
              "  <thead>\n",
              "    <tr style=\"text-align: right;\">\n",
              "      <th></th>\n",
              "      <th>dst</th>\n",
              "      <th>train_idx</th>\n",
              "    </tr>\n",
              "  </thead>\n",
              "  <tbody>\n",
              "    <tr>\n",
              "      <th>54</th>\n",
              "      <td>0.269626</td>\n",
              "      <td>54.0</td>\n",
              "    </tr>\n",
              "    <tr>\n",
              "      <th>53</th>\n",
              "      <td>0.599942</td>\n",
              "      <td>53.0</td>\n",
              "    </tr>\n",
              "    <tr>\n",
              "      <th>17</th>\n",
              "      <td>0.709386</td>\n",
              "      <td>17.0</td>\n",
              "    </tr>\n",
              "  </tbody>\n",
              "</table>\n",
              "</div>\n",
              "      <button class=\"colab-df-convert\" onclick=\"convertToInteractive('df-671e3105-8640-404c-93ce-03d52258a94b')\"\n",
              "              title=\"Convert this dataframe to an interactive table.\"\n",
              "              style=\"display:none;\">\n",
              "        \n",
              "  <svg xmlns=\"http://www.w3.org/2000/svg\" height=\"24px\"viewBox=\"0 0 24 24\"\n",
              "       width=\"24px\">\n",
              "    <path d=\"M0 0h24v24H0V0z\" fill=\"none\"/>\n",
              "    <path d=\"M18.56 5.44l.94 2.06.94-2.06 2.06-.94-2.06-.94-.94-2.06-.94 2.06-2.06.94zm-11 1L8.5 8.5l.94-2.06 2.06-.94-2.06-.94L8.5 2.5l-.94 2.06-2.06.94zm10 10l.94 2.06.94-2.06 2.06-.94-2.06-.94-.94-2.06-.94 2.06-2.06.94z\"/><path d=\"M17.41 7.96l-1.37-1.37c-.4-.4-.92-.59-1.43-.59-.52 0-1.04.2-1.43.59L10.3 9.45l-7.72 7.72c-.78.78-.78 2.05 0 2.83L4 21.41c.39.39.9.59 1.41.59.51 0 1.02-.2 1.41-.59l7.78-7.78 2.81-2.81c.8-.78.8-2.07 0-2.86zM5.41 20L4 18.59l7.72-7.72 1.47 1.35L5.41 20z\"/>\n",
              "  </svg>\n",
              "      </button>\n",
              "      \n",
              "  <style>\n",
              "    .colab-df-container {\n",
              "      display:flex;\n",
              "      flex-wrap:wrap;\n",
              "      gap: 12px;\n",
              "    }\n",
              "\n",
              "    .colab-df-convert {\n",
              "      background-color: #E8F0FE;\n",
              "      border: none;\n",
              "      border-radius: 50%;\n",
              "      cursor: pointer;\n",
              "      display: none;\n",
              "      fill: #1967D2;\n",
              "      height: 32px;\n",
              "      padding: 0 0 0 0;\n",
              "      width: 32px;\n",
              "    }\n",
              "\n",
              "    .colab-df-convert:hover {\n",
              "      background-color: #E2EBFA;\n",
              "      box-shadow: 0px 1px 2px rgba(60, 64, 67, 0.3), 0px 1px 3px 1px rgba(60, 64, 67, 0.15);\n",
              "      fill: #174EA6;\n",
              "    }\n",
              "\n",
              "    [theme=dark] .colab-df-convert {\n",
              "      background-color: #3B4455;\n",
              "      fill: #D2E3FC;\n",
              "    }\n",
              "\n",
              "    [theme=dark] .colab-df-convert:hover {\n",
              "      background-color: #434B5C;\n",
              "      box-shadow: 0px 1px 3px 1px rgba(0, 0, 0, 0.15);\n",
              "      filter: drop-shadow(0px 1px 2px rgba(0, 0, 0, 0.3));\n",
              "      fill: #FFFFFF;\n",
              "    }\n",
              "  </style>\n",
              "\n",
              "      <script>\n",
              "        const buttonEl =\n",
              "          document.querySelector('#df-671e3105-8640-404c-93ce-03d52258a94b button.colab-df-convert');\n",
              "        buttonEl.style.display =\n",
              "          google.colab.kernel.accessAllowed ? 'block' : 'none';\n",
              "\n",
              "        async function convertToInteractive(key) {\n",
              "          const element = document.querySelector('#df-671e3105-8640-404c-93ce-03d52258a94b');\n",
              "          const dataTable =\n",
              "            await google.colab.kernel.invokeFunction('convertToInteractive',\n",
              "                                                     [key], {});\n",
              "          if (!dataTable) return;\n",
              "\n",
              "          const docLinkHtml = 'Like what you see? Visit the ' +\n",
              "            '<a target=\"_blank\" href=https://colab.research.google.com/notebooks/data_table.ipynb>data table notebook</a>'\n",
              "            + ' to learn more about interactive tables.';\n",
              "          element.innerHTML = '';\n",
              "          dataTable['output_type'] = 'display_data';\n",
              "          await google.colab.output.renderOutput(dataTable, element);\n",
              "          const docLink = document.createElement('div');\n",
              "          docLink.innerHTML = docLinkHtml;\n",
              "          element.appendChild(docLink);\n",
              "        }\n",
              "      </script>\n",
              "    </div>\n",
              "  </div>\n",
              "  "
            ],
            "text/plain": [
              "         dst  train_idx\n",
              "54  0.269626       54.0\n",
              "53  0.599942       53.0\n",
              "17  0.709386       17.0"
            ]
          },
          "execution_count": 28,
          "metadata": {},
          "output_type": "execute_result"
        }
      ],
      "source": [
        "idx = 8\n",
        "test_dot = X_test[idx]\n",
        "\n",
        "distances = pd.DataFrame()\n",
        "for i, train_dot in enumerate(X_train):  # 1\n",
        "    distances = distances.append({\n",
        "        'train_idx': i,\n",
        "        'dst': np.linalg.norm(train_dot - test_dot, ord=2)  # 2\n",
        "    }, ignore_index=True)\n",
        "\n",
        "distances.sort_values('dst').head(n_neighbors)"
      ]
    },
    {
      "cell_type": "markdown",
      "metadata": {
        "id": "zzUYP7RKBiX_"
      },
      "source": [
        "И получае индексы для отрисовки."
      ]
    },
    {
      "cell_type": "code",
      "execution_count": null,
      "metadata": {
        "colab": {
          "base_uri": "https://localhost:8080/"
        },
        "id": "VgZzLPjQBiX_",
        "outputId": "01d2f6af-c28d-493b-f56d-5e21066339db"
      },
      "outputs": [
        {
          "data": {
            "text/plain": [
              "Int64Index([54, 53, 17], dtype='int64')"
            ]
          },
          "execution_count": 29,
          "metadata": {},
          "output_type": "execute_result"
        }
      ],
      "source": [
        "nearest_neigbors_idxs = distances.sort_values('dst').head(n_neighbors).index\n",
        "nearest_neigbors_idxs"
      ]
    },
    {
      "cell_type": "markdown",
      "metadata": {
        "id": "EzSAR3VlBiX_"
      },
      "source": [
        "Отрисовываем три найденных соседа в полупрозрачные зеленые окружности.\n",
        "\n",
        "И снова, эти три объекта самые близкие к тестовому объекту.\n",
        "\n",
        "А чтобы получить предсказание для звездочки, нужно усреднить их предсказанные целевые значения."
      ]
    },
    {
      "cell_type": "code",
      "execution_count": null,
      "metadata": {
        "colab": {
          "base_uri": "https://localhost:8080/",
          "height": 483
        },
        "id": "O54leDA0BiX_",
        "outputId": "31d9f515-225a-48dd-b895-247eee2672d1"
      },
      "outputs": [
        {
          "data": {
            "image/png": "[encoded data removed]",
            "text/plain": [
              "<Figure size 720x576 with 1 Axes>"
            ]
          },
          "metadata": {
            "needs_background": "light"
          },
          "output_type": "display_data"
        }
      ],
      "source": [
        "plt.figure(figsize=(10, 8))\n",
        "sns.scatterplot(\n",
        "    x=X_train[:, 0],\n",
        "    y=X_train[:, 1],\n",
        "    hue=y_train,\n",
        ")\n",
        "\n",
        "plt.scatter(X_train[nearest_neigbors_idxs, 0], X_train[nearest_neigbors_idxs, 1],\n",
        "            c='g', alpha=0.3, marker='o', s=100, label='nearest neighbors')\n",
        "\n",
        "pred = np.mean(y_train[nearest_neigbors_idxs])\n",
        "plt.scatter(X_test[idx, 0], X_test[idx, 1], c='g', marker='*', s=100, label='test dot')\n",
        "plt.annotate(round(pred, 1), (X_test[idx, 0], X_test[idx, 1]))\n",
        "\n",
        "for i, txt in enumerate(y_train[nearest_neigbors_idxs]):\n",
        "    plt.annotate(round(txt, 1), (X_train[nearest_neigbors_idxs[i], 0], X_train[nearest_neigbors_idxs[i], 1] + 0.05))\n",
        "\n",
        "plt.legend();"
      ]
    },
    {
      "cell_type": "markdown",
      "metadata": {
        "id": "WeUJwfPZBiX_"
      },
      "source": [
        "### Резюме KNN"
      ]
    },
    {
      "cell_type": "markdown",
      "metadata": {
        "id": "-oR4oTtQBiX_"
      },
      "source": [
        "С моделью для задачи регрессии всё тоже самое:\n",
        "\n",
        "На **моменте обучения** ничего интересного не происходит: все точки из обучения попросту запоминаются.\n",
        "\n",
        "На **моменте предсказания**:\n",
        "1. для тестовой точки считаем расстояния до всех точек с обучения\n",
        "2. сортируем от самого ближнего до самого дальнего расстояния\n",
        "3. делаем усреднение целевых значений ближайших $N$ соседей - это и есть предсказание модели"
      ]
    },
    {
      "cell_type": "markdown",
      "metadata": {
        "id": "7eGKynr1VdRK"
      },
      "source": [
        "## Как выбрать оптимальное количество соседей"
      ]
    },
    {
      "cell_type": "markdown",
      "metadata": {
        "id": "aDZguU5thEQg"
      },
      "source": [
        "А здесь нет четкого алгоритма, как нужно действовать, чтобы найти самое лучшее количество соседей, главное, не бросаться в крайности и смотреть на качество предсказания модели.\n"
      ]
    },
    {
      "cell_type": "markdown",
      "metadata": {
        "id": "xIDVaJwbWWph"
      },
      "source": [
        "### Слишком мало соседей\n",
        "\n",
        "Если взять слишком мало ближайших соседей (N < 3), то на предсказания могут влиять выбросные  объекты, либо предсказания вообще могут оказаться случайными.\n",
        "\n",
        "Возьмем только одного ближайшего соседа."
      ]
    },
    {
      "cell_type": "code",
      "execution_count": null,
      "metadata": {
        "colab": {
          "base_uri": "https://localhost:8080/"
        },
        "id": "704MUPF2WLEJ",
        "outputId": "1a00e2dd-f3e7-4508-e86f-690b4f63189f"
      },
      "outputs": [
        {
          "data": {
            "text/plain": [
              "Int64Index([54], dtype='int64')"
            ]
          },
          "execution_count": 31,
          "metadata": {},
          "output_type": "execute_result"
        }
      ],
      "source": [
        "n_neighbors = 1\n",
        "\n",
        "nearest_neigbors_idxs = distances.sort_values('dst').head(n_neighbors).index\n",
        "nearest_neigbors_idxs"
      ]
    },
    {
      "cell_type": "markdown",
      "metadata": {
        "id": "zm6kk5ggWySk"
      },
      "source": [
        "И отрисуем его целевое значение и предсказание для тестового объекта."
      ]
    },
    {
      "cell_type": "code",
      "execution_count": null,
      "metadata": {
        "colab": {
          "base_uri": "https://localhost:8080/",
          "height": 483
        },
        "id": "HQ4WAYLWWLEK",
        "outputId": "9fe49dda-e08a-499f-ed82-a3c7e5421b12"
      },
      "outputs": [
        {
          "data": {
            "image/png": "[encoded data removed]",
            "text/plain": [
              "<Figure size 720x576 with 1 Axes>"
            ]
          },
          "metadata": {
            "needs_background": "light"
          },
          "output_type": "display_data"
        }
      ],
      "source": [
        "plt.figure(figsize=(10, 8))\n",
        "sns.scatterplot(\n",
        "    x=X_train[:, 0],\n",
        "    y=X_train[:, 1],\n",
        "    hue=y_train,\n",
        ")\n",
        "\n",
        "plt.scatter(X_train[nearest_neigbors_idxs, 0], X_train[nearest_neigbors_idxs, 1],\n",
        "            c='g', alpha=0.3, marker='o', s=100, label='nearest neighbors')\n",
        "\n",
        "pred = np.mean(y_train[nearest_neigbors_idxs])\n",
        "plt.scatter(X_test[idx, 0], X_test[idx, 1], c='g', marker='*', s=100, label='test dot')\n",
        "plt.annotate(round(pred, 1), (X_test[idx, 0], X_test[idx, 1]))\n",
        "\n",
        "for i, txt in enumerate(y_train[nearest_neigbors_idxs]):\n",
        "    plt.annotate(round(txt, 1), (X_train[nearest_neigbors_idxs[i], 0], X_train[nearest_neigbors_idxs[i], 1] + 0.05))\n",
        "\n",
        "plt.legend();"
      ]
    },
    {
      "cell_type": "markdown",
      "metadata": {
        "id": "b5QWinMrWT_B"
      },
      "source": [
        "### Слишком много соседей\n",
        "\n",
        "А если взять слишком большое количество ближайших соседей для задачи, то предсказания будут сильно усредненными, все объекты могут влиять на предсказания нового объекта."
      ]
    },
    {
      "cell_type": "markdown",
      "metadata": {
        "id": "C08Os678W3zy"
      },
      "source": [
        "Возьмем 50 соседей, половина нашей выборки."
      ]
    },
    {
      "cell_type": "code",
      "execution_count": null,
      "metadata": {
        "colab": {
          "base_uri": "https://localhost:8080/"
        },
        "id": "hSGawHfFWjy7",
        "outputId": "e0e77af2-0dfd-4647-ab0c-5bdaa5e6e4bf"
      },
      "outputs": [
        {
          "data": {
            "text/plain": [
              "Int64Index([54, 53, 17, 55, 89, 31, 68, 25, 38, 18, 60, 23,  1, 80, 43, 49, 20,\n",
              "            34, 15,  0, 13, 70, 32, 12, 14,  6, 21, 63, 50, 67, 85, 66, 72, 58,\n",
              "            11, 75, 33, 83,  8, 37, 76, 44, 61,  9, 40, 48, 19, 95, 39, 46],\n",
              "           dtype='int64')"
            ]
          },
          "execution_count": 33,
          "metadata": {},
          "output_type": "execute_result"
        }
      ],
      "source": [
        "n_neighbors = 50\n",
        "\n",
        "nearest_neigbors_idxs = distances.sort_values('dst').head(n_neighbors).index\n",
        "nearest_neigbors_idxs"
      ]
    },
    {
      "cell_type": "markdown",
      "metadata": {
        "id": "yNqjMU2uW6D7"
      },
      "source": [
        "И отрисуем, выходит, что каждый второй влияет на предсказание нового объекта."
      ]
    },
    {
      "cell_type": "code",
      "execution_count": null,
      "metadata": {
        "colab": {
          "base_uri": "https://localhost:8080/",
          "height": 483
        },
        "id": "KTvnqPX_Wjy8",
        "outputId": "59e1fb74-8ecd-458a-9d9c-4c988314d45f"
      },
      "outputs": [
        {
          "data": {
            "image/png": "[encoded data removed]",
            "text/plain": [
              "<Figure size 720x576 with 1 Axes>"
            ]
          },
          "metadata": {
            "needs_background": "light"
          },
          "output_type": "display_data"
        }
      ],
      "source": [
        "plt.figure(figsize=(10, 8))\n",
        "sns.scatterplot(\n",
        "    x=X_train[:, 0],\n",
        "    y=X_train[:, 1],\n",
        "    hue=y_train,\n",
        ")\n",
        "\n",
        "plt.scatter(X_train[nearest_neigbors_idxs, 0], X_train[nearest_neigbors_idxs, 1],\n",
        "            c='g', alpha=0.3, marker='o', s=100, label='nearest neighbors')\n",
        "\n",
        "pred = np.mean(y_train[nearest_neigbors_idxs])\n",
        "plt.scatter(X_test[idx, 0], X_test[idx, 1], c='g', marker='*', s=100, label='test dot')\n",
        "plt.annotate(round(pred, 1), (X_test[idx, 0], X_test[idx, 1]))\n",
        "\n",
        "for i, txt in enumerate(y_train[nearest_neigbors_idxs]):\n",
        "    plt.annotate(round(txt, 1), (X_train[nearest_neigbors_idxs[i], 0], X_train[nearest_neigbors_idxs[i], 1] + 0.05))\n",
        "\n",
        "plt.legend();"
      ]
    },
    {
      "cell_type": "markdown",
      "metadata": {
        "id": "Bwb24we6Wg_w"
      },
      "source": [
        "Поэтому есть модификация - взвешенный KNN, про него могу рассказать в другом занятии.\n"
      ]
    },
    {
      "cell_type": "markdown",
      "metadata": {
        "id": "NizN0jCYQojn"
      },
      "source": [
        "## Практика\n",
        "Практика будет доступна на платформе boosty https://boosty.to/machine_learrrning/posts/1d23121a-15d8-4561-ac0b-0bb456969b37\n",
        "\n",
        "Доступна\n",
        "1. по подписке уровня light+ и выше\n",
        "2. разовая оплата\n"
      ]
    },
    {
      "cell_type": "markdown",
      "metadata": {
        "id": "NLm3MFeQNENl"
      },
      "source": [
        "## Summary\n",
        "\n",
        "Вот мы и разобрались, как обучается модель K ближайших соседей.\n",
        "\n",
        "1. Модель и для регрессии, и для классификации **обучается** одинаково - **никак**, она запоминает обучающую выборку.\n",
        "2. Затем поступает тестовый объект и нужно сделать предсказание\n",
        "    - Считаем **расстояния до** всех объектов с **обучения**\n",
        "    - Выбираем **K** ближайших\n",
        "    - И в зависимости от задачи выдаем финальное предсказание\n",
        "        1. ***Классификация***\n",
        "            - Делаем **голосование** между соседами, за какой класс больше голосов, то и выбираем\n",
        "        2. ***Регрессия***\n",
        "            - Далем **усреденение** всех целевых значений"
      ]
    },
    {
      "cell_type": "markdown",
      "metadata": {
        "id": "vlQTlmerl-KD"
      },
      "source": [
        "**Муррр** ♥"
      ]
    }
  ],
  "metadata": {
    "colab": {
      "provenance": [],
      "toc_visible": true
    },
    "kernelspec": {
      "display_name": "Python 3",
      "name": "python3"
    },
    "language_info": {
      "codemirror_mode": {
        "name": "ipython",
        "version": 3
      },
      "file_extension": ".py",
      "mimetype": "text/x-python",
      "name": "python",
      "nbconvert_exporter": "python",
      "pygments_lexer": "ipython3",
      "version": "3.11.5"
    }
  },
  "nbformat": 4,
  "nbformat_minor": 0
}
